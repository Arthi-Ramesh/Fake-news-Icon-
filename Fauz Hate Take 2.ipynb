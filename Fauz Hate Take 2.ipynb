{
 "cells": [
  {
   "cell_type": "code",
   "execution_count": 108,
   "id": "6fa48c97-679e-4862-9c03-ce665679f560",
   "metadata": {},
   "outputs": [],
   "source": [
    "import pandas as pd\n",
    "from sklearn.feature_extraction.text import TfidfVectorizer\n",
    "from sklearn.model_selection import train_test_split, GridSearchCV\n",
    "from sklearn.naive_bayes import MultinomialNB\n",
    "from sklearn.metrics import accuracy_score, classification_report, confusion_matrix\n",
    "from imblearn.over_sampling import RandomOverSampler\n",
    "import re\n",
    "from nltk.stem import WordNetLemmatizer\n",
    "from nltk.corpus import stopwords\n",
    "import nltk"
   ]
  },
  {
   "cell_type": "code",
   "execution_count": 109,
   "id": "782ea7bf-8935-4448-9c98-4355d321e9d7",
   "metadata": {},
   "outputs": [
    {
     "data": {
      "text/html": [
       "<div>\n",
       "<style scoped>\n",
       "    .dataframe tbody tr th:only-of-type {\n",
       "        vertical-align: middle;\n",
       "    }\n",
       "\n",
       "    .dataframe tbody tr th {\n",
       "        vertical-align: top;\n",
       "    }\n",
       "\n",
       "    .dataframe thead th {\n",
       "        text-align: right;\n",
       "    }\n",
       "</style>\n",
       "<table border=\"1\" class=\"dataframe\">\n",
       "  <thead>\n",
       "    <tr style=\"text-align: right;\">\n",
       "      <th></th>\n",
       "      <th>Text</th>\n",
       "      <th>Fake</th>\n",
       "      <th>Hate</th>\n",
       "      <th>Target</th>\n",
       "      <th>Severity</th>\n",
       "    </tr>\n",
       "  </thead>\n",
       "  <tbody>\n",
       "    <tr>\n",
       "      <th>0</th>\n",
       "      <td>USER Abhi tak 2000 ke note me mujhe GPS nano c...</td>\n",
       "      <td>0</td>\n",
       "      <td>0</td>\n",
       "      <td>0</td>\n",
       "      <td>0</td>\n",
       "    </tr>\n",
       "    <tr>\n",
       "      <th>1</th>\n",
       "      <td>USER USER Abe katiye tumse kuch huaa toh jata ...</td>\n",
       "      <td>1</td>\n",
       "      <td>1</td>\n",
       "      <td>2</td>\n",
       "      <td>3</td>\n",
       "    </tr>\n",
       "    <tr>\n",
       "      <th>2</th>\n",
       "      <td>USER Ye sab sazish hai bina saman ke koi kaise...</td>\n",
       "      <td>1</td>\n",
       "      <td>1</td>\n",
       "      <td>2</td>\n",
       "      <td>2</td>\n",
       "    </tr>\n",
       "    <tr>\n",
       "      <th>3</th>\n",
       "      <td>abe jao tum to dasko pahle hi fash gye the jab...</td>\n",
       "      <td>1</td>\n",
       "      <td>0</td>\n",
       "      <td>1</td>\n",
       "      <td>1</td>\n",
       "    </tr>\n",
       "    <tr>\n",
       "      <th>4</th>\n",
       "      <td>Ab ye afbah kaun faila Raha hai ki Shahhen bag...</td>\n",
       "      <td>0</td>\n",
       "      <td>0</td>\n",
       "      <td>0</td>\n",
       "      <td>0</td>\n",
       "    </tr>\n",
       "  </tbody>\n",
       "</table>\n",
       "</div>"
      ],
      "text/plain": [
       "                                                Text  Fake  Hate  Target  \\\n",
       "0  USER Abhi tak 2000 ke note me mujhe GPS nano c...     0     0       0   \n",
       "1  USER USER Abe katiye tumse kuch huaa toh jata ...     1     1       2   \n",
       "2  USER Ye sab sazish hai bina saman ke koi kaise...     1     1       2   \n",
       "3  abe jao tum to dasko pahle hi fash gye the jab...     1     0       1   \n",
       "4  Ab ye afbah kaun faila Raha hai ki Shahhen bag...     0     0       0   \n",
       "\n",
       "   Severity  \n",
       "0         0  \n",
       "1         3  \n",
       "2         2  \n",
       "3         1  \n",
       "4         0  "
      ]
     },
     "execution_count": 109,
     "metadata": {},
     "output_type": "execute_result"
    }
   ],
   "source": [
    "df = pd.read_csv(r\"C:\\Users\\ARTHI\\Downloads\\cleaned_data.csv\")\n",
    "df.head()"
   ]
  },
  {
   "cell_type": "code",
   "execution_count": 110,
   "id": "42e7088c-3d7c-4152-92d6-e5cdfbe9eec6",
   "metadata": {},
   "outputs": [
    {
     "name": "stderr",
     "output_type": "stream",
     "text": [
      "[nltk_data] Downloading package wordnet to\n",
      "[nltk_data]     C:\\Users\\ARTHI\\AppData\\Roaming\\nltk_data...\n",
      "[nltk_data]   Package wordnet is already up-to-date!\n",
      "[nltk_data] Downloading package stopwords to\n",
      "[nltk_data]     C:\\Users\\ARTHI\\AppData\\Roaming\\nltk_data...\n",
      "[nltk_data]   Package stopwords is already up-to-date!\n"
     ]
    }
   ],
   "source": [
    "nltk.download('wordnet')\n",
    "nltk.download('stopwords')\n",
    "\n",
    "# Text Preprocessing\n",
    "lemmatizer = WordNetLemmatizer()\n",
    "stop_words = set(stopwords.words('english'))\n",
    "\n",
    "def preprocess_text(text):\n",
    "    text = re.sub(r'@\\w+', '', text)  # Remove mentions\n",
    "    text = re.sub(r'[^a-zA-Z\\s]', '', text)  # Remove special characters\n",
    "    text = text.lower()  # Convert to lowercase\n",
    "    text = ' '.join([lemmatizer.lemmatize(word) for word in text.split() if word not in stop_words])\n",
    "    return text\n"
   ]
  },
  {
   "cell_type": "code",
   "execution_count": 111,
   "id": "be2ea626-3e1e-488d-b656-dab8def46ed9",
   "metadata": {},
   "outputs": [],
   "source": [
    "df['Text'] = df['Text'].fillna('').astype(str)  # Handle missing values\n",
    "df['Text'] = df['Text'].apply(preprocess_text)\n",
    "\n",
    "# Step 2: Vectorizing the text using TF-IDF\n",
    "vectorizer = TfidfVectorizer(ngram_range=(1, 2), max_features=10000, min_df=3, max_df=0.9, stop_words='english')\n",
    "X_vectorized = vectorizer.fit_transform(df['Text'])\n"
   ]
  },
  {
   "cell_type": "code",
   "execution_count": 112,
   "id": "f0bb4e04-6c5c-483a-8ed0-fee495474b25",
   "metadata": {},
   "outputs": [],
   "source": [
    "ros = RandomOverSampler(random_state=42)\n",
    "X_balanced, y_balanced = ros.fit_resample(X_vectorized, df['Target'])\n",
    "\n",
    "# Step 4: Train-test split\n",
    "X_train, X_test, y_train, y_test = train_test_split(X_balanced, y_balanced, test_size=0.2, random_state=42)"
   ]
  },
  {
   "cell_type": "code",
   "execution_count": 113,
   "id": "496ba71f-e262-412a-8c22-1fd73cd6117b",
   "metadata": {},
   "outputs": [
    {
     "data": {
      "text/html": [
       "<style>#sk-container-id-12 {color: black;background-color: white;}#sk-container-id-12 pre{padding: 0;}#sk-container-id-12 div.sk-toggleable {background-color: white;}#sk-container-id-12 label.sk-toggleable__label {cursor: pointer;display: block;width: 100%;margin-bottom: 0;padding: 0.3em;box-sizing: border-box;text-align: center;}#sk-container-id-12 label.sk-toggleable__label-arrow:before {content: \"▸\";float: left;margin-right: 0.25em;color: #696969;}#sk-container-id-12 label.sk-toggleable__label-arrow:hover:before {color: black;}#sk-container-id-12 div.sk-estimator:hover label.sk-toggleable__label-arrow:before {color: black;}#sk-container-id-12 div.sk-toggleable__content {max-height: 0;max-width: 0;overflow: hidden;text-align: left;background-color: #f0f8ff;}#sk-container-id-12 div.sk-toggleable__content pre {margin: 0.2em;color: black;border-radius: 0.25em;background-color: #f0f8ff;}#sk-container-id-12 input.sk-toggleable__control:checked~div.sk-toggleable__content {max-height: 200px;max-width: 100%;overflow: auto;}#sk-container-id-12 input.sk-toggleable__control:checked~label.sk-toggleable__label-arrow:before {content: \"▾\";}#sk-container-id-12 div.sk-estimator input.sk-toggleable__control:checked~label.sk-toggleable__label {background-color: #d4ebff;}#sk-container-id-12 div.sk-label input.sk-toggleable__control:checked~label.sk-toggleable__label {background-color: #d4ebff;}#sk-container-id-12 input.sk-hidden--visually {border: 0;clip: rect(1px 1px 1px 1px);clip: rect(1px, 1px, 1px, 1px);height: 1px;margin: -1px;overflow: hidden;padding: 0;position: absolute;width: 1px;}#sk-container-id-12 div.sk-estimator {font-family: monospace;background-color: #f0f8ff;border: 1px dotted black;border-radius: 0.25em;box-sizing: border-box;margin-bottom: 0.5em;}#sk-container-id-12 div.sk-estimator:hover {background-color: #d4ebff;}#sk-container-id-12 div.sk-parallel-item::after {content: \"\";width: 100%;border-bottom: 1px solid gray;flex-grow: 1;}#sk-container-id-12 div.sk-label:hover label.sk-toggleable__label {background-color: #d4ebff;}#sk-container-id-12 div.sk-serial::before {content: \"\";position: absolute;border-left: 1px solid gray;box-sizing: border-box;top: 0;bottom: 0;left: 50%;z-index: 0;}#sk-container-id-12 div.sk-serial {display: flex;flex-direction: column;align-items: center;background-color: white;padding-right: 0.2em;padding-left: 0.2em;position: relative;}#sk-container-id-12 div.sk-item {position: relative;z-index: 1;}#sk-container-id-12 div.sk-parallel {display: flex;align-items: stretch;justify-content: center;background-color: white;position: relative;}#sk-container-id-12 div.sk-item::before, #sk-container-id-12 div.sk-parallel-item::before {content: \"\";position: absolute;border-left: 1px solid gray;box-sizing: border-box;top: 0;bottom: 0;left: 50%;z-index: -1;}#sk-container-id-12 div.sk-parallel-item {display: flex;flex-direction: column;z-index: 1;position: relative;background-color: white;}#sk-container-id-12 div.sk-parallel-item:first-child::after {align-self: flex-end;width: 50%;}#sk-container-id-12 div.sk-parallel-item:last-child::after {align-self: flex-start;width: 50%;}#sk-container-id-12 div.sk-parallel-item:only-child::after {width: 0;}#sk-container-id-12 div.sk-dashed-wrapped {border: 1px dashed gray;margin: 0 0.4em 0.5em 0.4em;box-sizing: border-box;padding-bottom: 0.4em;background-color: white;}#sk-container-id-12 div.sk-label label {font-family: monospace;font-weight: bold;display: inline-block;line-height: 1.2em;}#sk-container-id-12 div.sk-label-container {text-align: center;}#sk-container-id-12 div.sk-container {/* jupyter's `normalize.less` sets `[hidden] { display: none; }` but bootstrap.min.css set `[hidden] { display: none !important; }` so we also need the `!important` here to be able to override the default hidden behavior on the sphinx rendered scikit-learn.org. See: https://github.com/scikit-learn/scikit-learn/issues/21755 */display: inline-block !important;position: relative;}#sk-container-id-12 div.sk-text-repr-fallback {display: none;}</style><div id=\"sk-container-id-12\" class=\"sk-top-container\"><div class=\"sk-text-repr-fallback\"><pre>GridSearchCV(cv=5, estimator=MultinomialNB(), n_jobs=-1,\n",
       "             param_grid={&#x27;alpha&#x27;: [0.1, 0.5, 1.0, 1.5, 2.0]},\n",
       "             scoring=&#x27;accuracy&#x27;)</pre><b>In a Jupyter environment, please rerun this cell to show the HTML representation or trust the notebook. <br />On GitHub, the HTML representation is unable to render, please try loading this page with nbviewer.org.</b></div><div class=\"sk-container\" hidden><div class=\"sk-item sk-dashed-wrapped\"><div class=\"sk-label-container\"><div class=\"sk-label sk-toggleable\"><input class=\"sk-toggleable__control sk-hidden--visually\" id=\"sk-estimator-id-34\" type=\"checkbox\" ><label for=\"sk-estimator-id-34\" class=\"sk-toggleable__label sk-toggleable__label-arrow\">GridSearchCV</label><div class=\"sk-toggleable__content\"><pre>GridSearchCV(cv=5, estimator=MultinomialNB(), n_jobs=-1,\n",
       "             param_grid={&#x27;alpha&#x27;: [0.1, 0.5, 1.0, 1.5, 2.0]},\n",
       "             scoring=&#x27;accuracy&#x27;)</pre></div></div></div><div class=\"sk-parallel\"><div class=\"sk-parallel-item\"><div class=\"sk-item\"><div class=\"sk-label-container\"><div class=\"sk-label sk-toggleable\"><input class=\"sk-toggleable__control sk-hidden--visually\" id=\"sk-estimator-id-35\" type=\"checkbox\" ><label for=\"sk-estimator-id-35\" class=\"sk-toggleable__label sk-toggleable__label-arrow\">estimator: MultinomialNB</label><div class=\"sk-toggleable__content\"><pre>MultinomialNB()</pre></div></div></div><div class=\"sk-serial\"><div class=\"sk-item\"><div class=\"sk-estimator sk-toggleable\"><input class=\"sk-toggleable__control sk-hidden--visually\" id=\"sk-estimator-id-36\" type=\"checkbox\" ><label for=\"sk-estimator-id-36\" class=\"sk-toggleable__label sk-toggleable__label-arrow\">MultinomialNB</label><div class=\"sk-toggleable__content\"><pre>MultinomialNB()</pre></div></div></div></div></div></div></div></div></div></div>"
      ],
      "text/plain": [
       "GridSearchCV(cv=5, estimator=MultinomialNB(), n_jobs=-1,\n",
       "             param_grid={'alpha': [0.1, 0.5, 1.0, 1.5, 2.0]},\n",
       "             scoring='accuracy')"
      ]
     },
     "execution_count": 113,
     "metadata": {},
     "output_type": "execute_result"
    }
   ],
   "source": [
    "nb = MultinomialNB()\n",
    "param_grid = {'alpha': [0.1, 0.5, 1.0, 1.5, 2.0]}  # Alpha controls Laplace smoothing\n",
    "grid_search = GridSearchCV(nb, param_grid, cv=5, scoring='accuracy', n_jobs=-1)\n",
    "grid_search.fit(X_train, y_train)\n"
   ]
  },
  {
   "cell_type": "code",
   "execution_count": 114,
   "id": "f075ebb8-9b43-4305-b859-42f6891325ba",
   "metadata": {},
   "outputs": [
    {
     "name": "stdout",
     "output_type": "stream",
     "text": [
      "Best Alpha: 0.1\n",
      "Accuracy: 0.7412854030501089\n",
      "\n",
      "Classification Report:\n",
      "               precision    recall  f1-score   support\n",
      "\n",
      "           0       0.73      0.51      0.60       471\n",
      "           1       0.73      0.84      0.78       451\n",
      "           2       0.72      0.73      0.72       465\n",
      "           3       0.78      0.90      0.83       449\n",
      "\n",
      "    accuracy                           0.74      1836\n",
      "   macro avg       0.74      0.74      0.74      1836\n",
      "weighted avg       0.74      0.74      0.73      1836\n",
      "\n",
      "\n",
      "Confusion Matrix:\n",
      " [[240  76  82  73]\n",
      " [ 30 380  19  22]\n",
      " [ 55  53 339  18]\n",
      " [  4  12  31 402]]\n"
     ]
    }
   ],
   "source": [
    "best_nb = grid_search.best_estimator_\n",
    "best_nb.fit(X_train, y_train)\n",
    "\n",
    "y_pred = best_nb.predict(X_test)\n",
    "print(\"Best Alpha:\", grid_search.best_params_['alpha'])\n",
    "print(\"Accuracy:\", accuracy_score(y_test, y_pred))\n",
    "print(\"\\nClassification Report:\\n\", classification_report(y_test, y_pred))\n",
    "print(\"\\nConfusion Matrix:\\n\", confusion_matrix(y_test, y_pred))"
   ]
  },
  {
   "cell_type": "code",
   "execution_count": 115,
   "id": "0293eca1-213a-4967-a457-972792011106",
   "metadata": {},
   "outputs": [
    {
     "name": "stdout",
     "output_type": "stream",
     "text": [
      "Best Hyperparameters for Severity: {'alpha': 0.1, 'fit_prior': False}\n",
      "Accuracy for Severity: 0.6993464052287581\n",
      "\n",
      "Classification Report for Severity:\n",
      "               precision    recall  f1-score   support\n",
      "\n",
      "           0       0.68      0.57      0.62       459\n",
      "           1       0.56      0.55      0.55       459\n",
      "           2       0.69      0.74      0.71       459\n",
      "           3       0.85      0.95      0.89       459\n",
      "\n",
      "    accuracy                           0.70      1836\n",
      "   macro avg       0.69      0.70      0.69      1836\n",
      "weighted avg       0.69      0.70      0.69      1836\n",
      "\n",
      "\n",
      "Confusion Matrix for Severity:\n",
      " [[260 121  48  30]\n",
      " [ 81 251  95  32]\n",
      " [ 33  70 339  17]\n",
      " [  6   9  10 434]]\n",
      "\n",
      "Logistic Regression Accuracy for Severity: 0.7227668845315904\n"
     ]
    }
   ],
   "source": [
    "\n",
    "from sklearn.feature_extraction.text import TfidfTransformer\n",
    "tfidf = TfidfTransformer()\n",
    "X_tfidf = tfidf.fit_transform(X_vectorized)\n",
    "\n",
    "# Step 2: Balance the dataset for Severity classification\n",
    "ros = RandomOverSampler(random_state=42)\n",
    "X_balanced, y_balanced = ros.fit_resample(X_tfidf, df['Severity'])\n",
    "\n",
    "from sklearn.model_selection import StratifiedKFold, train_test_split\n",
    "X_train, X_test, y_train, y_test = train_test_split(\n",
    "    X_balanced, y_balanced, test_size=0.2, random_state=42, stratify=y_balanced\n",
    ")\n",
    "\n",
    "nb = MultinomialNB()\n",
    "param_grid = {\n",
    "    'alpha': [0.01, 0.1, 0.5, 1.0, 1.5, 2.0],\n",
    "    'fit_prior': [True, False]  \n",
    "}\n",
    "\n",
    "grid_search = GridSearchCV(nb, param_grid, cv=5, scoring='accuracy', n_jobs=-1)\n",
    "grid_search.fit(X_train, y_train)\n",
    "\n",
    "best_nb_sev = grid_search.best_estimator_\n",
    "\n",
    "y_sev_pred = best_nb_sev.predict(X_test)\n",
    "\n",
    "# Step 8: Print the results\n",
    "print(\"Best Hyperparameters for Severity:\", grid_search.best_params_)\n",
    "print(\"Accuracy for Severity:\", accuracy_score(y_test, y_sev_pred))\n",
    "print(\"\\nClassification Report for Severity:\\n\", classification_report(y_test, y_sev_pred))\n",
    "print(\"\\nConfusion Matrix for Severity:\\n\", confusion_matrix(y_test, y_sev_pred))\n",
    "\n",
    "from sklearn.ensemble import RandomForestClassifier\n",
    "from sklearn.linear_model import LogisticRegression\n",
    "\n",
    "# Example with Logistic Regression\n",
    "lr = LogisticRegression(max_iter=1000)\n",
    "lr.fit(X_train, y_train)\n",
    "y_pred_lr = lr.predict(X_test)\n",
    "print(\"\\nLogistic Regression Accuracy for Severity:\", accuracy_score(y_test, y_pred_lr))\n"
   ]
  },
  {
   "cell_type": "code",
   "execution_count": 119,
   "id": "e476e1df-798b-459b-8f35-ee3400e97322",
   "metadata": {},
   "outputs": [
    {
     "name": "stdout",
     "output_type": "stream",
     "text": [
      "Combined predictions saved to 'C:\\Users\\ARTHI\\Downloads\\validation_target_severity_predictions.csv'.\n"
     ]
    }
   ],
   "source": [
    "import pandas as pd\n",
    "\n",
    "# Ensure there are no missing values in the 'Tweet' column\n",
    "validation_data['Tweet'] = validation_data['Tweet'].fillna(\"\")\n",
    "\n",
    "# Generate predictions for target and severity classifications\n",
    "X_validation_vectorized = vectorizer.transform(validation_data['Tweet'])\n",
    "\n",
    "y_target_pred = best_nb.predict(X_validation_vectorized)  # Replace with your trained Target model\n",
    "y_severity_pred = best_nb_sev.predict(X_validation_vectorized)  # Replace with your trained Severity model\n",
    "\n",
    "# Add predictions to the validation dataset\n",
    "validation_data['Target_Prediction'] = y_target_pred\n",
    "validation_data['Severity_Prediction'] = y_severity_pred\n",
    "\n",
    "# Save the combined predictions to a single CSV file\n",
    "output_path = r\"C:\\Users\\ARTHI\\Downloads\\validation_target_severity_predictions.csv\"\n",
    "validation_data[['Tweet', 'Target_Prediction', 'Severity_Prediction']].to_csv(output_path, index=False)\n",
    "\n",
    "print(f\"Combined predictions saved to '{output_path}'.\")\n"
   ]
  },
  {
   "cell_type": "code",
   "execution_count": 121,
   "id": "b7de25a6-c0dd-432f-9186-a81b98029411",
   "metadata": {},
   "outputs": [
    {
     "name": "stdout",
     "output_type": "stream",
     "text": [
      "Test predictions saved to 'C:\\Users\\ARTHI\\Downloads\\test_target_severity_predictions.csv'.\n"
     ]
    }
   ],
   "source": [
    "import pandas as pd\n",
    "\n",
    "# Load the test dataset\n",
    "test_file_path = r\"C:\\Users\\ARTHI\\Downloads\\Test_Task_B.xlsx\"\n",
    "test_data = pd.read_excel(test_file_path)\n",
    "\n",
    "#  Handle missing values in the 'Tweet' column\n",
    "test_data['Tweet'] = test_data['Tweet'].fillna(\"\")\n",
    "\n",
    "X_test_vectorized = vectorizer.transform(test_data['Tweet'])\n",
    "\n",
    "y_target_pred_test = best_nb.predict(X_test_vectorized)  \n",
    "y_severity_pred_test = best_nb_sev.predict(X_test_vectorized)  \n",
    "\n",
    "test_data['Target_Prediction'] = y_target_pred_test\n",
    "test_data['Severity_Prediction'] = y_severity_pred_test\n",
    "\n",
    "# Save the predictions to a single CSV file\n",
    "output_path_test = r\"C:\\Users\\ARTHI\\Downloads\\test_target_severity_predictions.csv\"\n",
    "test_data[['Tweet', 'Target_Prediction', 'Severity_Prediction']].to_csv(output_path_test, index=False)\n",
    "\n",
    "print(f\"Test predictions saved to '{output_path_test}'.\")\n"
   ]
  },
  {
   "cell_type": "code",
   "execution_count": null,
   "id": "67b6e84d-2438-423d-bd5a-b7dbff604ce1",
   "metadata": {},
   "outputs": [],
   "source": []
  }
 ],
 "metadata": {
  "kernelspec": {
   "display_name": "Python 3 (ipykernel)",
   "language": "python",
   "name": "python3"
  },
  "language_info": {
   "codemirror_mode": {
    "name": "ipython",
    "version": 3
   },
   "file_extension": ".py",
   "mimetype": "text/x-python",
   "name": "python",
   "nbconvert_exporter": "python",
   "pygments_lexer": "ipython3",
   "version": "3.11.7"
  }
 },
 "nbformat": 4,
 "nbformat_minor": 5
}
